{
 "cells": [
  {
   "cell_type": "markdown",
   "metadata": {
    "deletable": true,
    "editable": true
   },
   "source": [
    "# TV Script Generation\n",
    "In this project, you'll generate your own [Simpsons](https://en.wikipedia.org/wiki/The_Simpsons) TV scripts using RNNs.  You'll be using part of the [Simpsons dataset](https://www.kaggle.com/wcukierski/the-simpsons-by-the-data) of scripts from 27 seasons.  The Neural Network you'll build will generate a new TV script for a scene at [Moe's Tavern](https://simpsonswiki.com/wiki/Moe's_Tavern).\n",
    "## Get the Data\n",
    "The data is already provided for you.  You'll be using a subset of the original dataset.  It consists of only the scenes in Moe's Tavern.  This doesn't include other versions of the tavern, like \"Moe's Cavern\", \"Flaming Moe's\", \"Uncle Moe's Family Feed-Bag\", etc.."
   ]
  },
  {
   "cell_type": "code",
   "execution_count": 8,
   "metadata": {
    "collapsed": false,
    "deletable": true,
    "editable": true
   },
   "outputs": [],
   "source": [
    "\"\"\"\n",
    "DON'T MODIFY ANYTHING IN THIS CELL\n",
    "\"\"\"\n",
    "import helper\n",
    "\n",
    "data_dir = './data/simpsons/moes_tavern_lines.txt'\n",
    "text = helper.load_data(data_dir)\n",
    "# Ignore notice, since we don't use it for analysing the data\n",
    "text = text[81:]"
   ]
  },
  {
   "cell_type": "markdown",
   "metadata": {
    "deletable": true,
    "editable": true
   },
   "source": [
    "## Explore the Data\n",
    "Play around with `view_sentence_range` to view different parts of the data."
   ]
  },
  {
   "cell_type": "code",
   "execution_count": 9,
   "metadata": {
    "collapsed": false,
    "deletable": true,
    "editable": true
   },
   "outputs": [
    {
     "name": "stdout",
     "output_type": "stream",
     "text": [
      "Dataset Stats\n",
      "Roughly the number of unique words: 11492\n",
      "Number of scenes: 262\n",
      "Average number of sentences in each scene: 15.248091603053435\n",
      "Number of lines: 4257\n",
      "Average number of words in each line: 11.50434578341555\n",
      "\n",
      "The sentences 0 to 10:\n",
      "Moe_Szyslak: (INTO PHONE) Moe's Tavern. Where the elite meet to drink.\n",
      "Bart_Simpson: Eh, yeah, hello, is Mike there? Last name, Rotch.\n",
      "Moe_Szyslak: (INTO PHONE) Hold on, I'll check. (TO BARFLIES) Mike Rotch. Mike Rotch. Hey, has anybody seen Mike Rotch, lately?\n",
      "Moe_Szyslak: (INTO PHONE) Listen you little puke. One of these days I'm gonna catch you, and I'm gonna carve my name on your back with an ice pick.\n",
      "Moe_Szyslak: What's the matter Homer? You're not your normal effervescent self.\n",
      "Homer_Simpson: I got my problems, Moe. Give me another one.\n",
      "Moe_Szyslak: Homer, hey, you should not drink to forget your problems.\n",
      "Barney_Gumble: Yeah, you should only drink to enhance your social skills.\n",
      "\n",
      "\n"
     ]
    }
   ],
   "source": [
    "view_sentence_range = (0, 10)\n",
    "\n",
    "\"\"\"\n",
    "DON'T MODIFY ANYTHING IN THIS CELL\n",
    "\"\"\"\n",
    "import numpy as np\n",
    "\n",
    "print('Dataset Stats')\n",
    "print('Roughly the number of unique words: {}'.format(len({word: None for word in text.split()})))\n",
    "scenes = text.split('\\n\\n')\n",
    "print('Number of scenes: {}'.format(len(scenes)))\n",
    "sentence_count_scene = [scene.count('\\n') for scene in scenes]\n",
    "print('Average number of sentences in each scene: {}'.format(np.average(sentence_count_scene)))\n",
    "\n",
    "sentences = [sentence for scene in scenes for sentence in scene.split('\\n')]\n",
    "print('Number of lines: {}'.format(len(sentences)))\n",
    "word_count_sentence = [len(sentence.split()) for sentence in sentences]\n",
    "print('Average number of words in each line: {}'.format(np.average(word_count_sentence)))\n",
    "\n",
    "print()\n",
    "print('The sentences {} to {}:'.format(*view_sentence_range))\n",
    "print('\\n'.join(text.split('\\n')[view_sentence_range[0]:view_sentence_range[1]]))"
   ]
  },
  {
   "cell_type": "markdown",
   "metadata": {
    "deletable": true,
    "editable": true
   },
   "source": [
    "## Implement Preprocessing Functions\n",
    "The first thing to do to any dataset is preprocessing.  Implement the following preprocessing functions below:\n",
    "- Lookup Table\n",
    "- Tokenize Punctuation\n",
    "\n",
    "### Lookup Table\n",
    "To create a word embedding, you first need to transform the words to ids.  In this function, create two dictionaries:\n",
    "- Dictionary to go from the words to an id, we'll call `vocab_to_int`\n",
    "- Dictionary to go from the id to word, we'll call `int_to_vocab`\n",
    "\n",
    "Return these dictionaries in the following tuple `(vocab_to_int, int_to_vocab)`"
   ]
  },
  {
   "cell_type": "code",
   "execution_count": 10,
   "metadata": {
    "collapsed": false,
    "deletable": true,
    "editable": true
   },
   "outputs": [
    {
     "name": "stdout",
     "output_type": "stream",
     "text": [
      "Tests Passed\n"
     ]
    }
   ],
   "source": [
    "import numpy as np\n",
    "import problem_unittests as tests\n",
    "\n",
    "def create_lookup_tables(text):\n",
    "    \"\"\"\n",
    "    Create lookup tables for vocabulary\n",
    "    :param text: The text of tv scripts split into words\n",
    "    :return: A tuple of dicts (vocab_to_int, int_to_vocab)\n",
    "    \"\"\"\n",
    "    # TODO: Implement Function\n",
    "    vocab_to_int = {}\n",
    "    int_to_vocab = {}\n",
    "    for i, v in enumerate(set(text)):\n",
    "        vocab_to_int[v] = i\n",
    "        int_to_vocab[i] = v\n",
    "    return vocab_to_int, int_to_vocab\n",
    "\n",
    "\n",
    "\"\"\"\n",
    "DON'T MODIFY ANYTHING IN THIS CELL THAT IS BELOW THIS LINE\n",
    "\"\"\"\n",
    "tests.test_create_lookup_tables(create_lookup_tables)"
   ]
  },
  {
   "cell_type": "markdown",
   "metadata": {
    "deletable": true,
    "editable": true
   },
   "source": [
    "### Tokenize Punctuation\n",
    "We'll be splitting the script into a word array using spaces as delimiters.  However, punctuations like periods and exclamation marks make it hard for the neural network to distinguish between the word \"bye\" and \"bye!\".\n",
    "\n",
    "Implement the function `token_lookup` to return a dict that will be used to tokenize symbols like \"!\" into \"||Exclamation_Mark||\".  Create a dictionary for the following symbols where the symbol is the key and value is the token:\n",
    "- Period ( . )\n",
    "- Comma ( , )\n",
    "- Quotation Mark ( \" )\n",
    "- Semicolon ( ; )\n",
    "- Exclamation mark ( ! )\n",
    "- Question mark ( ? )\n",
    "- Left Parentheses ( ( )\n",
    "- Right Parentheses ( ) )\n",
    "- Dash ( -- )\n",
    "- Return ( \\n )\n",
    "\n",
    "This dictionary will be used to token the symbols and add the delimiter (space) around it.  This separates the symbols as it's own word, making it easier for the neural network to predict on the next word. Make sure you don't use a token that could be confused as a word. Instead of using the token \"dash\", try using something like \"||dash||\"."
   ]
  },
  {
   "cell_type": "code",
   "execution_count": 11,
   "metadata": {
    "collapsed": false,
    "deletable": true,
    "editable": true
   },
   "outputs": [
    {
     "name": "stdout",
     "output_type": "stream",
     "text": [
      "Tests Passed\n"
     ]
    }
   ],
   "source": [
    "def token_lookup():\n",
    "    \"\"\"\n",
    "    Generate a dict to turn punctuation into a token.\n",
    "    :return: Tokenize dictionary where the key is the punctuation and the value is the token\n",
    "    \"\"\"\n",
    "    # TODO: Implement Function\n",
    "    return {\n",
    "        '.': '||Period||',\n",
    "        ',': '||Comma||',\n",
    "        '\"': '||Quotation_Mark||',\n",
    "        ';': '||Semicolon||',\n",
    "        '!': '||Exclamation_Mark||',\n",
    "        '?': '||Question_Mark||',\n",
    "        '(': '||Lefe_Parentheses||',\n",
    "        ')': '||Right_Parentheses||',\n",
    "        '--': '||Dash||',\n",
    "        '\\n': '||Return||'  \n",
    "    }\n",
    "\n",
    "\"\"\"\n",
    "DON'T MODIFY ANYTHING IN THIS CELL THAT IS BELOW THIS LINE\n",
    "\"\"\"\n",
    "tests.test_tokenize(token_lookup)"
   ]
  },
  {
   "cell_type": "markdown",
   "metadata": {
    "deletable": true,
    "editable": true
   },
   "source": [
    "## Preprocess all the data and save it\n",
    "Running the code cell below will preprocess all the data and save it to file."
   ]
  },
  {
   "cell_type": "code",
   "execution_count": 12,
   "metadata": {
    "collapsed": false,
    "deletable": true,
    "editable": true
   },
   "outputs": [],
   "source": [
    "\"\"\"\n",
    "DON'T MODIFY ANYTHING IN THIS CELL\n",
    "\"\"\"\n",
    "# Preprocess Training, Validation, and Testing Data\n",
    "helper.preprocess_and_save_data(data_dir, token_lookup, create_lookup_tables)"
   ]
  },
  {
   "cell_type": "markdown",
   "metadata": {
    "deletable": true,
    "editable": true
   },
   "source": [
    "# Check Point\n",
    "This is your first checkpoint. If you ever decide to come back to this notebook or have to restart the notebook, you can start from here. The preprocessed data has been saved to disk."
   ]
  },
  {
   "cell_type": "code",
   "execution_count": 13,
   "metadata": {
    "collapsed": false,
    "deletable": true,
    "editable": true
   },
   "outputs": [],
   "source": [
    "\"\"\"\n",
    "DON'T MODIFY ANYTHING IN THIS CELL\n",
    "\"\"\"\n",
    "import helper\n",
    "import numpy as np\n",
    "import problem_unittests as tests\n",
    "\n",
    "int_text, vocab_to_int, int_to_vocab, token_dict = helper.load_preprocess()"
   ]
  },
  {
   "cell_type": "markdown",
   "metadata": {
    "deletable": true,
    "editable": true
   },
   "source": [
    "## Build the Neural Network\n",
    "You'll build the components necessary to build a RNN by implementing the following functions below:\n",
    "- get_inputs\n",
    "- get_init_cell\n",
    "- get_embed\n",
    "- build_rnn\n",
    "- build_nn\n",
    "- get_batches\n",
    "\n",
    "### Check the Version of TensorFlow and Access to GPU"
   ]
  },
  {
   "cell_type": "code",
   "execution_count": 14,
   "metadata": {
    "collapsed": true
   },
   "outputs": [],
   "source": [
    "# I am using the tensorflow 1.3 with gpu verison\n",
    "# The default dlnd-tf-lab environment install the cpu only tensorflow\n",
    "# It would be much helpful to let student knows that they need to reinstall the tensorflow-gpu package\n",
    "# And the reason for a higher verison is the CUDA 8-9 cuDDD 6-7 verison support, 1.0 has much more trial and error."
   ]
  },
  {
   "cell_type": "code",
   "execution_count": 15,
   "metadata": {
    "collapsed": false,
    "scrolled": true
   },
   "outputs": [
    {
     "name": "stdout",
     "output_type": "stream",
     "text": [
      "TensorFlow Version: 1.3.0\n",
      "Default GPU Device: /gpu:0\n"
     ]
    }
   ],
   "source": [
    "\"\"\"\n",
    "DON'T MODIFY ANYTHING IN THIS CELL\n",
    "\"\"\"\n",
    "from distutils.version import LooseVersion\n",
    "import warnings\n",
    "import tensorflow as tf\n",
    "\n",
    "# Check TensorFlow Version\n",
    "assert LooseVersion(tf.__version__) >= LooseVersion('1.0'), 'Please use TensorFlow version 1.0 or newer'\n",
    "print('TensorFlow Version: {}'.format(tf.__version__))\n",
    "\n",
    "# Check for a GPU\n",
    "if not tf.test.gpu_device_name():\n",
    "    warnings.warn('No GPU found. Please use a GPU to train your neural network.')\n",
    "else:\n",
    "    print('Default GPU Device: {}'.format(tf.test.gpu_device_name()))"
   ]
  },
  {
   "cell_type": "markdown",
   "metadata": {},
   "source": [
    "### Input\n",
    "Implement the `get_inputs()` function to create TF Placeholders for the Neural Network.  It should create the following placeholders:\n",
    "- Input text placeholder named \"input\" using the [TF Placeholder](https://www.tensorflow.org/api_docs/python/tf/placeholder) `name` parameter.\n",
    "- Targets placeholder\n",
    "- Learning Rate placeholder\n",
    "\n",
    "Return the placeholders in the following tuple `(Input, Targets, LearningRate)`"
   ]
  },
  {
   "cell_type": "code",
   "execution_count": 16,
   "metadata": {
    "collapsed": false,
    "deletable": true,
    "editable": true
   },
   "outputs": [
    {
     "name": "stdout",
     "output_type": "stream",
     "text": [
      "Tests Passed\n"
     ]
    }
   ],
   "source": [
    "def get_inputs():\n",
    "    \"\"\"\n",
    "    Create TF Placeholders for input, targets, and learning rate.\n",
    "    :return: Tuple (input, targets, learning rate)\n",
    "    \"\"\"\n",
    "    # TODO: Implement Function\n",
    "    return (\n",
    "        tf.placeholder(tf.int32, [None, None], name='input'), \n",
    "        tf.placeholder(tf.int32, [None, None]), \n",
    "        tf.placeholder(tf.float32)\n",
    "    )\n",
    "\n",
    "\"\"\"\n",
    "DON'T MODIFY ANYTHING IN THIS CELL THAT IS BELOW THIS LINE\n",
    "\"\"\"\n",
    "tests.test_get_inputs(get_inputs)"
   ]
  },
  {
   "cell_type": "markdown",
   "metadata": {
    "deletable": true,
    "editable": true
   },
   "source": [
    "### Build RNN Cell and Initialize\n",
    "Stack one or more [`BasicLSTMCells`](https://www.tensorflow.org/api_docs/python/tf/contrib/rnn/BasicLSTMCell) in a [`MultiRNNCell`](https://www.tensorflow.org/api_docs/python/tf/contrib/rnn/MultiRNNCell).\n",
    "- The Rnn size should be set using `rnn_size`\n",
    "- Initalize Cell State using the MultiRNNCell's [`zero_state()`](https://www.tensorflow.org/api_docs/python/tf/contrib/rnn/MultiRNNCell#zero_state) function\n",
    "    - Apply the name \"initial_state\" to the initial state using [`tf.identity()`](https://www.tensorflow.org/api_docs/python/tf/identity)\n",
    "\n",
    "Return the cell and initial state in the following tuple `(Cell, InitialState)`"
   ]
  },
  {
   "cell_type": "code",
   "execution_count": 43,
   "metadata": {
    "collapsed": false,
    "deletable": true,
    "editable": true,
    "scrolled": true
   },
   "outputs": [
    {
     "name": "stdout",
     "output_type": "stream",
     "text": [
      "Tests Passed\n"
     ]
    }
   ],
   "source": [
    "def get_init_cell(batch_size, rnn_size):\n",
    "    \"\"\"\n",
    "    Create an RNN Cell and initialize it.\n",
    "    :param batch_size: Size of batches\n",
    "    :param rnn_size: Size of RNNs\n",
    "    :return: Tuple (cell, initialize state)\n",
    "    \"\"\"\n",
    "    number_of_layers = 2\n",
    "    keep_prob = 0.75\n",
    "    # TODO: Implement Function\n",
    "    \n",
    "    #lstm = tf.contrib.rnn.BasicLSTMCell(rnn_size)\n",
    "    #drop = tf.contrib.rnn.DropoutWrapper(lstm, output_keep_prob = keep_prob)\n",
    "    #cell = tf.contrib.rnn.MultiRNNCell([drop] * number_of_layers)\n",
    "    \"\"\"\n",
    "    The code above was suggested as a trick in the learning video, but after the tensorflow 1.2 update,\n",
    "    The default behavior changed to share variable in the same reference,\n",
    "    which would lead to the next dropout layer that is 75%(keep_prob) of the input sharing the \n",
    "    same variable that cause share variable mix match shape down the road\n",
    "    \"\"\"\n",
    "    \n",
    "    cell = tf.contrib.rnn.MultiRNNCell([lstm_cell(rnn_size, keep_prob) for _ in range(number_of_layers)])\n",
    "    \n",
    "    \n",
    "    initialize_state = tf.identity(cell.zero_state(batch_size, tf.int32),name=\"initial_state\")\n",
    "    \n",
    "    return cell, initialize_state\n",
    "\n",
    "def lstm_cell(rnn_size, keep_prob):\n",
    "    lstm = tf.contrib.rnn.BasicLSTMCell(rnn_size)\n",
    "    drop = tf.contrib.rnn.DropoutWrapper(lstm, output_keep_prob = keep_prob)\n",
    "    return drop\n",
    "\n",
    "\"\"\"\n",
    "DON'T MODIFY ANYTHING IN THIS CELL THAT IS BELOW THIS LINE\n",
    "\"\"\"\n",
    "tests.test_get_init_cell(get_init_cell)"
   ]
  },
  {
   "cell_type": "markdown",
   "metadata": {
    "deletable": true,
    "editable": true
   },
   "source": [
    "### Word Embedding\n",
    "Apply embedding to `input_data` using TensorFlow.  Return the embedded sequence."
   ]
  },
  {
   "cell_type": "code",
   "execution_count": 44,
   "metadata": {
    "collapsed": false,
    "deletable": true,
    "editable": true
   },
   "outputs": [
    {
     "name": "stdout",
     "output_type": "stream",
     "text": [
      "Tests Passed\n"
     ]
    }
   ],
   "source": [
    "def get_embed(input_data, vocab_size, embed_dim):\n",
    "    \"\"\"\n",
    "    Create embedding for <input_data>.\n",
    "    :param input_data: TF placeholder for text input.\n",
    "    :param vocab_size: Number of words in vocabulary.\n",
    "    :param embed_dim: Number of embedding dimensions\n",
    "    :return: Embedded input.\n",
    "    \"\"\"\n",
    "    # TODO: Implement Function\n",
    "    # from https://www.tensorflow.org/tutorials/word2vec\n",
    "    embeddings = tf.Variable(tf.random_uniform([vocab_size, embed_dim], -1.0, 1.0))\n",
    "    return tf.nn.embedding_lookup(embeddings, input_data)\n",
    "\n",
    "\"\"\"\n",
    "DON'T MODIFY ANYTHING IN THIS CELL THAT IS BELOW THIS LINE\n",
    "\"\"\"\n",
    "tests.test_get_embed(get_embed)"
   ]
  },
  {
   "cell_type": "markdown",
   "metadata": {
    "deletable": true,
    "editable": true
   },
   "source": [
    "### Build RNN\n",
    "You created a RNN Cell in the `get_init_cell()` function.  Time to use the cell to create a RNN.\n",
    "- Build the RNN using the [`tf.nn.dynamic_rnn()`](https://www.tensorflow.org/api_docs/python/tf/nn/dynamic_rnn)\n",
    " - Apply the name \"final_state\" to the final state using [`tf.identity()`](https://www.tensorflow.org/api_docs/python/tf/identity)\n",
    "\n",
    "Return the outputs and final_state state in the following tuple `(Outputs, FinalState)` "
   ]
  },
  {
   "cell_type": "code",
   "execution_count": 45,
   "metadata": {
    "collapsed": false,
    "deletable": true,
    "editable": true
   },
   "outputs": [
    {
     "name": "stdout",
     "output_type": "stream",
     "text": [
      "Tests Passed\n"
     ]
    }
   ],
   "source": [
    "def build_rnn(cell, inputs):\n",
    "    \"\"\"\n",
    "    Create a RNN using a RNN Cell\n",
    "    :param cell: RNN Cell\n",
    "    :param inputs: Input text data\n",
    "    :return: Tuple (Outputs, Final State)\n",
    "    \"\"\"\n",
    "    # TODO: Implement Function\n",
    "    \n",
    "    outpus, final_state = tf.nn.dynamic_rnn(cell, inputs, dtype=tf.float32)\n",
    "    final_state = tf.identity(final_state,name=\"final_state\")\n",
    "    return outpus, final_state\n",
    "\n",
    "\n",
    "\"\"\"\n",
    "DON'T MODIFY ANYTHING IN THIS CELL THAT IS BELOW THIS LINE\n",
    "\"\"\"\n",
    "tests.test_build_rnn(build_rnn)"
   ]
  },
  {
   "cell_type": "markdown",
   "metadata": {
    "deletable": true,
    "editable": true
   },
   "source": [
    "### Build the Neural Network\n",
    "Apply the functions you implemented above to:\n",
    "- Apply embedding to `input_data` using your `get_embed(input_data, vocab_size, embed_dim)` function.\n",
    "- Build RNN using `cell` and your `build_rnn(cell, inputs)` function.\n",
    "- Apply a fully connected layer with a linear activation and `vocab_size` as the number of outputs.\n",
    "\n",
    "Return the logits and final state in the following tuple (Logits, FinalState) "
   ]
  },
  {
   "cell_type": "code",
   "execution_count": 46,
   "metadata": {
    "collapsed": false,
    "scrolled": false
   },
   "outputs": [
    {
     "ename": "AssertionError",
     "evalue": "Final state wrong shape.  Found shape (2, 2, 128, 256)",
     "output_type": "error",
     "traceback": [
      "\u001b[0;31m---------------------------------------------------------------------------\u001b[0m",
      "\u001b[0;31mAssertionError\u001b[0m                            Traceback (most recent call last)",
      "\u001b[0;32m<ipython-input-46-9e2de0d89c83>\u001b[0m in \u001b[0;36m<module>\u001b[0;34m()\u001b[0m\n\u001b[1;32m     19\u001b[0m \u001b[0mDON\u001b[0m\u001b[0;31m'\u001b[0m\u001b[0mT\u001b[0m \u001b[0mMODIFY\u001b[0m \u001b[0mANYTHING\u001b[0m \u001b[0mIN\u001b[0m \u001b[0mTHIS\u001b[0m \u001b[0mCELL\u001b[0m \u001b[0mTHAT\u001b[0m \u001b[0mIS\u001b[0m \u001b[0mBELOW\u001b[0m \u001b[0mTHIS\u001b[0m \u001b[0mLINE\u001b[0m\u001b[1;33m\u001b[0m\u001b[0m\n\u001b[1;32m     20\u001b[0m \"\"\"\n\u001b[0;32m---> 21\u001b[0;31m \u001b[0mtests\u001b[0m\u001b[1;33m.\u001b[0m\u001b[0mtest_build_nn\u001b[0m\u001b[1;33m(\u001b[0m\u001b[0mbuild_nn\u001b[0m\u001b[1;33m)\u001b[0m\u001b[1;33m\u001b[0m\u001b[0m\n\u001b[0m",
      "\u001b[0;32mG:\\python\\deep-learning\\tv-script-generation\\problem_unittests.py\u001b[0m in \u001b[0;36mtest_build_nn\u001b[0;34m(build_nn)\u001b[0m\n\u001b[1;32m    265\u001b[0m             \u001b[1;34m'Outputs has wrong shape.  Found shape {}'\u001b[0m\u001b[1;33m.\u001b[0m\u001b[0mformat\u001b[0m\u001b[1;33m(\u001b[0m\u001b[0mlogits\u001b[0m\u001b[1;33m.\u001b[0m\u001b[0mget_shape\u001b[0m\u001b[1;33m(\u001b[0m\u001b[1;33m)\u001b[0m\u001b[1;33m)\u001b[0m\u001b[1;33m\u001b[0m\u001b[0m\n\u001b[1;32m    266\u001b[0m         \u001b[1;32massert\u001b[0m \u001b[0mfinal_state\u001b[0m\u001b[1;33m.\u001b[0m\u001b[0mget_shape\u001b[0m\u001b[1;33m(\u001b[0m\u001b[1;33m)\u001b[0m\u001b[1;33m.\u001b[0m\u001b[0mas_list\u001b[0m\u001b[1;33m(\u001b[0m\u001b[1;33m)\u001b[0m \u001b[1;33m==\u001b[0m \u001b[1;33m[\u001b[0m\u001b[0mtest_rnn_layer_size\u001b[0m\u001b[1;33m,\u001b[0m \u001b[1;36m2\u001b[0m\u001b[1;33m,\u001b[0m \u001b[1;32mNone\u001b[0m\u001b[1;33m,\u001b[0m \u001b[0mtest_rnn_size\u001b[0m\u001b[1;33m]\u001b[0m\u001b[1;33m,\u001b[0m\u001b[0;31m \u001b[0m\u001b[0;31m\\\u001b[0m\u001b[1;33m\u001b[0m\u001b[0m\n\u001b[0;32m--> 267\u001b[0;31m             \u001b[1;34m'Final state wrong shape.  Found shape {}'\u001b[0m\u001b[1;33m.\u001b[0m\u001b[0mformat\u001b[0m\u001b[1;33m(\u001b[0m\u001b[0mfinal_state\u001b[0m\u001b[1;33m.\u001b[0m\u001b[0mget_shape\u001b[0m\u001b[1;33m(\u001b[0m\u001b[1;33m)\u001b[0m\u001b[1;33m)\u001b[0m\u001b[1;33m\u001b[0m\u001b[0m\n\u001b[0m\u001b[1;32m    268\u001b[0m \u001b[1;33m\u001b[0m\u001b[0m\n\u001b[1;32m    269\u001b[0m     \u001b[0m_print_success_message\u001b[0m\u001b[1;33m(\u001b[0m\u001b[1;33m)\u001b[0m\u001b[1;33m\u001b[0m\u001b[0m\n",
      "\u001b[0;31mAssertionError\u001b[0m: Final state wrong shape.  Found shape (2, 2, 128, 256)"
     ]
    }
   ],
   "source": [
    "def build_nn(cell, rnn_size, input_data, vocab_size, embed_dim):\n",
    "    \"\"\"\n",
    "    Build part of the neural network\n",
    "    :param cell: RNN cell\n",
    "    :param rnn_size: Size of rnns\n",
    "    :param input_data: Input data\n",
    "    :param vocab_size: Vocabulary size\n",
    "    :param embed_dim: Number of embedding dimensions\n",
    "    :return: Tuple (Logits, FinalState)\n",
    "    \"\"\"\n",
    "    # TODO: Implement Function\n",
    "    embed = get_embed(input_data, vocab_size, embed_dim)\n",
    "    outputs, final_state = build_rnn(cell, embed)\n",
    "    logits = tf.contrib.layers.fully_connected(outputs, vocab_size, activation_fn=None)\n",
    "    return logits, final_state\n",
    "\n",
    "\n",
    "\"\"\"\n",
    "DON'T MODIFY ANYTHING IN THIS CELL THAT IS BELOW THIS LINE\n",
    "\"\"\"\n",
    "tests.test_build_nn(build_nn)"
   ]
  },
  {
   "cell_type": "markdown",
   "metadata": {},
   "source": [
    "### the above test is passing in tensorflow <= 1.2.1 failling in 1.3\n",
    "### this is due to the tf.nn.dynamic_rnn behavior change in the updated version."
   ]
  },
  {
   "cell_type": "markdown",
   "metadata": {
    "deletable": true,
    "editable": true
   },
   "source": [
    "### Batches\n",
    "Implement `get_batches` to create batches of input and targets using `int_text`.  The batches should be a Numpy array with the shape `(number of batches, 2, batch size, sequence length)`. Each batch contains two elements:\n",
    "- The first element is a single batch of **input** with the shape `[batch size, sequence length]`\n",
    "- The second element is a single batch of **targets** with the shape `[batch size, sequence length]`\n",
    "\n",
    "If you can't fill the last batch with enough data, drop the last batch.\n",
    "\n",
    "For exmple, `get_batches([1, 2, 3, 4, 5, 6, 7, 8, 9, 10, 11, 12, 13, 14, 15, 16, 17, 18, 19, 20], 3, 2)` would return a Numpy array of the following:\n",
    "```\n",
    "[\n",
    "  # First Batch\n",
    "  [\n",
    "    # Batch of Input\n",
    "    [[ 1  2], [ 7  8], [13 14]]\n",
    "    # Batch of targets\n",
    "    [[ 2  3], [ 8  9], [14 15]]\n",
    "  ]\n",
    "\n",
    "  # Second Batch\n",
    "  [\n",
    "    # Batch of Input\n",
    "    [[ 3  4], [ 9 10], [15 16]]\n",
    "    # Batch of targets\n",
    "    [[ 4  5], [10 11], [16 17]]\n",
    "  ]\n",
    "\n",
    "  # Third Batch\n",
    "  [\n",
    "    # Batch of Input\n",
    "    [[ 5  6], [11 12], [17 18]]\n",
    "    # Batch of targets\n",
    "    [[ 6  7], [12 13], [18  1]]\n",
    "  ]\n",
    "]\n",
    "```\n",
    "\n",
    "Notice that the last target value in the last batch is the first input value of the first batch. In this case, `1`. This is a common technique used when creating sequence batches, although it is rather unintuitive."
   ]
  },
  {
   "cell_type": "code",
   "execution_count": 47,
   "metadata": {
    "collapsed": false,
    "deletable": true,
    "editable": true
   },
   "outputs": [
    {
     "name": "stdout",
     "output_type": "stream",
     "text": [
      "Tests Passed\n"
     ]
    }
   ],
   "source": [
    "def get_batches(int_text, batch_size, seq_length):\n",
    "    \"\"\"\n",
    "    Return batches of input and target\n",
    "    :param int_text: Text with the words replaced by their ids\n",
    "    :param batch_size: The size of batch\n",
    "    :param seq_length: The length of sequence\n",
    "    :return: Batches as a Numpy array\n",
    "    \"\"\"\n",
    "    # TODO: Implement Function\n",
    "    batch_len = batch_size * seq_length\n",
    "    batch_num = len(int_text)//batch_len\n",
    "    valid_len = batch_num * batch_len\n",
    "    int_text = int_text[:valid_len]\n",
    "    \n",
    "    #output shift\n",
    "    seq_input = np.split(np.array(int_text).reshape(batch_size, -1), batch_num, 1)\n",
    "    seq_output = np.split(np.array(int_text[1:] + [int_text[0]]).reshape(batch_size, -1), batch_num, 1)\n",
    "    \n",
    "    return np.array(list(zip(seq_input, seq_output)))\n",
    "\n",
    "\n",
    "\"\"\"\n",
    "DON'T MODIFY ANYTHING IN THIS CELL THAT IS BELOW THIS LINE\n",
    "\"\"\"\n",
    "tests.test_get_batches(get_batches)"
   ]
  },
  {
   "cell_type": "markdown",
   "metadata": {
    "deletable": true,
    "editable": true
   },
   "source": [
    "## Neural Network Training\n",
    "### Hyperparameters\n",
    "Tune the following parameters:\n",
    "\n",
    "- Set `num_epochs` to the number of epochs.\n",
    "- Set `batch_size` to the batch size.\n",
    "- Set `rnn_size` to the size of the RNNs.\n",
    "- Set `embed_dim` to the size of the embedding.\n",
    "- Set `seq_length` to the length of sequence.\n",
    "- Set `learning_rate` to the learning rate.\n",
    "- Set `show_every_n_batches` to the number of batches the neural network should print progress."
   ]
  },
  {
   "cell_type": "code",
   "execution_count": 48,
   "metadata": {
    "collapsed": true,
    "deletable": true,
    "editable": true
   },
   "outputs": [],
   "source": [
    "# Number of Epochs\n",
    "num_epochs = 600\n",
    "# Batch Size\n",
    "batch_size = 256\n",
    "# RNN Size\n",
    "rnn_size = 512\n",
    "# Embedding Dimension Size\n",
    "embed_dim = 256\n",
    "# Sequence Length\n",
    "seq_length = 25\n",
    "# Learning Rate\n",
    "learning_rate = 0.001\n",
    "# Show stats for every n number of batches\n",
    "show_every_n_batches = 10\n",
    "\n",
    "\"\"\"\n",
    "DON'T MODIFY ANYTHING IN THIS CELL THAT IS BELOW THIS LINE\n",
    "\"\"\"\n",
    "save_dir = './save'"
   ]
  },
  {
   "cell_type": "markdown",
   "metadata": {
    "deletable": true,
    "editable": true
   },
   "source": [
    "### Build the Graph\n",
    "Build the graph using the neural network you implemented."
   ]
  },
  {
   "cell_type": "code",
   "execution_count": 49,
   "metadata": {
    "collapsed": false,
    "deletable": true,
    "editable": true,
    "scrolled": false
   },
   "outputs": [],
   "source": [
    "\"\"\"\n",
    "DON'T MODIFY ANYTHING IN THIS CELL\n",
    "\"\"\"\n",
    "from tensorflow.contrib import seq2seq\n",
    "\n",
    "train_graph = tf.Graph()\n",
    "with train_graph.as_default():\n",
    "    vocab_size = len(int_to_vocab)\n",
    "    input_text, targets, lr = get_inputs()\n",
    "    input_data_shape = tf.shape(input_text)\n",
    "    cell, initial_state = get_init_cell(input_data_shape[0], rnn_size)\n",
    "    logits, final_state = build_nn(cell, rnn_size, input_text, vocab_size, embed_dim)\n",
    "\n",
    "    # Probabilities for generating words\n",
    "    probs = tf.nn.softmax(logits, name='probs')\n",
    "\n",
    "    # Loss function\n",
    "    cost = seq2seq.sequence_loss(\n",
    "        logits,\n",
    "        targets,\n",
    "        tf.ones([input_data_shape[0], input_data_shape[1]]))\n",
    "\n",
    "    # Optimizer\n",
    "    optimizer = tf.train.AdamOptimizer(lr)\n",
    "\n",
    "    # Gradient Clipping\n",
    "    gradients = optimizer.compute_gradients(cost)\n",
    "    capped_gradients = [(tf.clip_by_value(grad, -1., 1.), var) for grad, var in gradients if grad is not None]\n",
    "    train_op = optimizer.apply_gradients(capped_gradients)"
   ]
  },
  {
   "cell_type": "markdown",
   "metadata": {
    "deletable": true,
    "editable": true
   },
   "source": [
    "## Train\n",
    "Train the neural network on the preprocessed data.  If you have a hard time getting a good loss, check the [forums](https://discussions.udacity.com/) to see if anyone is having the same problem."
   ]
  },
  {
   "cell_type": "code",
   "execution_count": 50,
   "metadata": {
    "collapsed": false,
    "deletable": true,
    "editable": true
   },
   "outputs": [
    {
     "name": "stdout",
     "output_type": "stream",
     "text": [
      "Epoch   0 Batch    0/10   train_loss = 8.822\n",
      "Epoch   1 Batch    0/10   train_loss = 6.381\n",
      "Epoch   2 Batch    0/10   train_loss = 6.243\n",
      "Epoch   3 Batch    0/10   train_loss = 6.148\n",
      "Epoch   4 Batch    0/10   train_loss = 6.097\n",
      "Epoch   5 Batch    0/10   train_loss = 6.086\n",
      "Epoch   6 Batch    0/10   train_loss = 6.076\n",
      "Epoch   7 Batch    0/10   train_loss = 6.071\n",
      "Epoch   8 Batch    0/10   train_loss = 6.056\n",
      "Epoch   9 Batch    0/10   train_loss = 6.046\n",
      "Epoch  10 Batch    0/10   train_loss = 6.023\n",
      "Epoch  11 Batch    0/10   train_loss = 5.995\n",
      "Epoch  12 Batch    0/10   train_loss = 5.953\n",
      "Epoch  13 Batch    0/10   train_loss = 5.909\n",
      "Epoch  14 Batch    0/10   train_loss = 5.873\n",
      "Epoch  15 Batch    0/10   train_loss = 5.838\n",
      "Epoch  16 Batch    0/10   train_loss = 5.810\n",
      "Epoch  17 Batch    0/10   train_loss = 5.785\n",
      "Epoch  18 Batch    0/10   train_loss = 5.756\n",
      "Epoch  19 Batch    0/10   train_loss = 5.731\n",
      "Epoch  20 Batch    0/10   train_loss = 5.703\n",
      "Epoch  21 Batch    0/10   train_loss = 5.681\n",
      "Epoch  22 Batch    0/10   train_loss = 5.652\n",
      "Epoch  23 Batch    0/10   train_loss = 5.622\n",
      "Epoch  24 Batch    0/10   train_loss = 5.595\n",
      "Epoch  25 Batch    0/10   train_loss = 5.557\n",
      "Epoch  26 Batch    0/10   train_loss = 5.527\n",
      "Epoch  27 Batch    0/10   train_loss = 5.496\n",
      "Epoch  28 Batch    0/10   train_loss = 5.458\n",
      "Epoch  29 Batch    0/10   train_loss = 5.421\n",
      "Epoch  30 Batch    0/10   train_loss = 5.378\n",
      "Epoch  31 Batch    0/10   train_loss = 5.343\n",
      "Epoch  32 Batch    0/10   train_loss = 5.301\n",
      "Epoch  33 Batch    0/10   train_loss = 5.271\n",
      "Epoch  34 Batch    0/10   train_loss = 5.236\n",
      "Epoch  35 Batch    0/10   train_loss = 5.188\n",
      "Epoch  36 Batch    0/10   train_loss = 5.154\n",
      "Epoch  37 Batch    0/10   train_loss = 5.127\n",
      "Epoch  38 Batch    0/10   train_loss = 5.093\n",
      "Epoch  39 Batch    0/10   train_loss = 5.056\n",
      "Epoch  40 Batch    0/10   train_loss = 5.023\n",
      "Epoch  41 Batch    0/10   train_loss = 4.987\n",
      "Epoch  42 Batch    0/10   train_loss = 4.959\n",
      "Epoch  43 Batch    0/10   train_loss = 4.928\n",
      "Epoch  44 Batch    0/10   train_loss = 4.897\n",
      "Epoch  45 Batch    0/10   train_loss = 4.870\n",
      "Epoch  46 Batch    0/10   train_loss = 4.849\n",
      "Epoch  47 Batch    0/10   train_loss = 4.833\n",
      "Epoch  48 Batch    0/10   train_loss = 4.820\n",
      "Epoch  49 Batch    0/10   train_loss = 4.790\n",
      "Epoch  50 Batch    0/10   train_loss = 4.759\n",
      "Epoch  51 Batch    0/10   train_loss = 4.736\n",
      "Epoch  52 Batch    0/10   train_loss = 4.706\n",
      "Epoch  53 Batch    0/10   train_loss = 4.685\n",
      "Epoch  54 Batch    0/10   train_loss = 4.674\n",
      "Epoch  55 Batch    0/10   train_loss = 4.649\n",
      "Epoch  56 Batch    0/10   train_loss = 4.635\n",
      "Epoch  57 Batch    0/10   train_loss = 4.619\n",
      "Epoch  58 Batch    0/10   train_loss = 4.591\n",
      "Epoch  59 Batch    0/10   train_loss = 4.576\n",
      "Epoch  60 Batch    0/10   train_loss = 4.560\n",
      "Epoch  61 Batch    0/10   train_loss = 4.534\n",
      "Epoch  62 Batch    0/10   train_loss = 4.530\n",
      "Epoch  63 Batch    0/10   train_loss = 4.538\n",
      "Epoch  64 Batch    0/10   train_loss = 4.520\n",
      "Epoch  65 Batch    0/10   train_loss = 4.479\n",
      "Epoch  66 Batch    0/10   train_loss = 4.469\n",
      "Epoch  67 Batch    0/10   train_loss = 4.458\n",
      "Epoch  68 Batch    0/10   train_loss = 4.436\n",
      "Epoch  69 Batch    0/10   train_loss = 4.431\n",
      "Epoch  70 Batch    0/10   train_loss = 4.417\n",
      "Epoch  71 Batch    0/10   train_loss = 4.401\n",
      "Epoch  72 Batch    0/10   train_loss = 4.390\n",
      "Epoch  73 Batch    0/10   train_loss = 4.367\n",
      "Epoch  74 Batch    0/10   train_loss = 4.355\n",
      "Epoch  75 Batch    0/10   train_loss = 4.328\n",
      "Epoch  76 Batch    0/10   train_loss = 4.314\n",
      "Epoch  77 Batch    0/10   train_loss = 4.294\n",
      "Epoch  78 Batch    0/10   train_loss = 4.273\n",
      "Epoch  79 Batch    0/10   train_loss = 4.256\n",
      "Epoch  80 Batch    0/10   train_loss = 4.240\n",
      "Epoch  81 Batch    0/10   train_loss = 4.221\n",
      "Epoch  82 Batch    0/10   train_loss = 4.232\n",
      "Epoch  83 Batch    0/10   train_loss = 4.218\n",
      "Epoch  84 Batch    0/10   train_loss = 4.212\n",
      "Epoch  85 Batch    0/10   train_loss = 4.168\n",
      "Epoch  86 Batch    0/10   train_loss = 4.168\n",
      "Epoch  87 Batch    0/10   train_loss = 4.131\n",
      "Epoch  88 Batch    0/10   train_loss = 4.124\n",
      "Epoch  89 Batch    0/10   train_loss = 4.110\n",
      "Epoch  90 Batch    0/10   train_loss = 4.096\n",
      "Epoch  91 Batch    0/10   train_loss = 4.080\n",
      "Epoch  92 Batch    0/10   train_loss = 4.072\n",
      "Epoch  93 Batch    0/10   train_loss = 4.062\n",
      "Epoch  94 Batch    0/10   train_loss = 4.044\n",
      "Epoch  95 Batch    0/10   train_loss = 4.024\n",
      "Epoch  96 Batch    0/10   train_loss = 4.022\n",
      "Epoch  97 Batch    0/10   train_loss = 3.994\n",
      "Epoch  98 Batch    0/10   train_loss = 3.970\n",
      "Epoch  99 Batch    0/10   train_loss = 3.962\n",
      "Epoch 100 Batch    0/10   train_loss = 3.954\n",
      "Epoch 101 Batch    0/10   train_loss = 3.940\n",
      "Epoch 102 Batch    0/10   train_loss = 3.934\n",
      "Epoch 103 Batch    0/10   train_loss = 3.917\n",
      "Epoch 104 Batch    0/10   train_loss = 3.899\n",
      "Epoch 105 Batch    0/10   train_loss = 3.905\n",
      "Epoch 106 Batch    0/10   train_loss = 3.880\n",
      "Epoch 107 Batch    0/10   train_loss = 3.874\n",
      "Epoch 108 Batch    0/10   train_loss = 3.862\n",
      "Epoch 109 Batch    0/10   train_loss = 3.881\n",
      "Epoch 110 Batch    0/10   train_loss = 3.919\n",
      "Epoch 111 Batch    0/10   train_loss = 3.949\n",
      "Epoch 112 Batch    0/10   train_loss = 3.966\n",
      "Epoch 113 Batch    0/10   train_loss = 4.030\n",
      "Epoch 114 Batch    0/10   train_loss = 3.887\n",
      "Epoch 115 Batch    0/10   train_loss = 3.768\n",
      "Epoch 116 Batch    0/10   train_loss = 3.755\n",
      "Epoch 117 Batch    0/10   train_loss = 3.732\n",
      "Epoch 118 Batch    0/10   train_loss = 3.717\n",
      "Epoch 119 Batch    0/10   train_loss = 3.709\n",
      "Epoch 120 Batch    0/10   train_loss = 3.709\n",
      "Epoch 121 Batch    0/10   train_loss = 3.666\n",
      "Epoch 122 Batch    0/10   train_loss = 3.675\n",
      "Epoch 123 Batch    0/10   train_loss = 3.731\n",
      "Epoch 124 Batch    0/10   train_loss = 3.739\n",
      "Epoch 125 Batch    0/10   train_loss = 3.679\n",
      "Epoch 126 Batch    0/10   train_loss = 3.691\n",
      "Epoch 127 Batch    0/10   train_loss = 3.681\n",
      "Epoch 128 Batch    0/10   train_loss = 3.592\n",
      "Epoch 129 Batch    0/10   train_loss = 3.542\n",
      "Epoch 130 Batch    0/10   train_loss = 3.523\n",
      "Epoch 131 Batch    0/10   train_loss = 3.520\n",
      "Epoch 132 Batch    0/10   train_loss = 3.502\n",
      "Epoch 133 Batch    0/10   train_loss = 3.484\n",
      "Epoch 134 Batch    0/10   train_loss = 3.476\n",
      "Epoch 135 Batch    0/10   train_loss = 3.444\n",
      "Epoch 136 Batch    0/10   train_loss = 3.427\n",
      "Epoch 137 Batch    0/10   train_loss = 3.421\n",
      "Epoch 138 Batch    0/10   train_loss = 3.409\n",
      "Epoch 139 Batch    0/10   train_loss = 3.440\n",
      "Epoch 140 Batch    0/10   train_loss = 3.515\n",
      "Epoch 141 Batch    0/10   train_loss = 3.390\n",
      "Epoch 142 Batch    0/10   train_loss = 3.500\n",
      "Epoch 143 Batch    0/10   train_loss = 3.572\n",
      "Epoch 144 Batch    0/10   train_loss = 3.451\n",
      "Epoch 145 Batch    0/10   train_loss = 3.318\n",
      "Epoch 146 Batch    0/10   train_loss = 3.326\n",
      "Epoch 147 Batch    0/10   train_loss = 3.291\n",
      "Epoch 148 Batch    0/10   train_loss = 3.263\n",
      "Epoch 149 Batch    0/10   train_loss = 3.225\n",
      "Epoch 150 Batch    0/10   train_loss = 3.208\n",
      "Epoch 151 Batch    0/10   train_loss = 3.199\n",
      "Epoch 152 Batch    0/10   train_loss = 3.172\n",
      "Epoch 153 Batch    0/10   train_loss = 3.153\n",
      "Epoch 154 Batch    0/10   train_loss = 3.136\n",
      "Epoch 155 Batch    0/10   train_loss = 3.114\n",
      "Epoch 156 Batch    0/10   train_loss = 3.100\n",
      "Epoch 157 Batch    0/10   train_loss = 3.097\n",
      "Epoch 158 Batch    0/10   train_loss = 3.075\n",
      "Epoch 159 Batch    0/10   train_loss = 3.051\n",
      "Epoch 160 Batch    0/10   train_loss = 3.078\n",
      "Epoch 161 Batch    0/10   train_loss = 3.114\n",
      "Epoch 162 Batch    0/10   train_loss = 3.046\n",
      "Epoch 163 Batch    0/10   train_loss = 3.018\n",
      "Epoch 164 Batch    0/10   train_loss = 2.994\n",
      "Epoch 165 Batch    0/10   train_loss = 2.973\n",
      "Epoch 166 Batch    0/10   train_loss = 2.948\n",
      "Epoch 167 Batch    0/10   train_loss = 2.899\n",
      "Epoch 168 Batch    0/10   train_loss = 2.909\n",
      "Epoch 169 Batch    0/10   train_loss = 2.898\n",
      "Epoch 170 Batch    0/10   train_loss = 2.877\n",
      "Epoch 171 Batch    0/10   train_loss = 2.853\n",
      "Epoch 172 Batch    0/10   train_loss = 2.824\n",
      "Epoch 173 Batch    0/10   train_loss = 2.832\n",
      "Epoch 174 Batch    0/10   train_loss = 2.842\n",
      "Epoch 175 Batch    0/10   train_loss = 2.808\n",
      "Epoch 176 Batch    0/10   train_loss = 2.759\n",
      "Epoch 177 Batch    0/10   train_loss = 2.748\n",
      "Epoch 178 Batch    0/10   train_loss = 2.754\n",
      "Epoch 179 Batch    0/10   train_loss = 2.717\n",
      "Epoch 180 Batch    0/10   train_loss = 2.701\n",
      "Epoch 181 Batch    0/10   train_loss = 2.689\n",
      "Epoch 182 Batch    0/10   train_loss = 2.667\n",
      "Epoch 183 Batch    0/10   train_loss = 2.610\n",
      "Epoch 184 Batch    0/10   train_loss = 2.612\n",
      "Epoch 185 Batch    0/10   train_loss = 2.616\n",
      "Epoch 186 Batch    0/10   train_loss = 2.614\n",
      "Epoch 187 Batch    0/10   train_loss = 2.598\n",
      "Epoch 188 Batch    0/10   train_loss = 2.606\n",
      "Epoch 189 Batch    0/10   train_loss = 2.564\n",
      "Epoch 190 Batch    0/10   train_loss = 2.547\n",
      "Epoch 191 Batch    0/10   train_loss = 2.548\n",
      "Epoch 192 Batch    0/10   train_loss = 2.530\n",
      "Epoch 193 Batch    0/10   train_loss = 2.492\n",
      "Epoch 194 Batch    0/10   train_loss = 2.497\n",
      "Epoch 195 Batch    0/10   train_loss = 2.517\n",
      "Epoch 196 Batch    0/10   train_loss = 2.528\n",
      "Epoch 197 Batch    0/10   train_loss = 2.458\n",
      "Epoch 198 Batch    0/10   train_loss = 2.488\n",
      "Epoch 199 Batch    0/10   train_loss = 2.494\n",
      "Epoch 200 Batch    0/10   train_loss = 2.441\n",
      "Epoch 201 Batch    0/10   train_loss = 2.421\n",
      "Epoch 202 Batch    0/10   train_loss = 2.340\n",
      "Epoch 203 Batch    0/10   train_loss = 2.322\n",
      "Epoch 204 Batch    0/10   train_loss = 2.347\n",
      "Epoch 205 Batch    0/10   train_loss = 2.304\n",
      "Epoch 206 Batch    0/10   train_loss = 2.283\n",
      "Epoch 207 Batch    0/10   train_loss = 2.265\n",
      "Epoch 208 Batch    0/10   train_loss = 2.240\n",
      "Epoch 209 Batch    0/10   train_loss = 2.225\n",
      "Epoch 210 Batch    0/10   train_loss = 2.192\n",
      "Epoch 211 Batch    0/10   train_loss = 2.198\n",
      "Epoch 212 Batch    0/10   train_loss = 2.173\n",
      "Epoch 213 Batch    0/10   train_loss = 2.137\n",
      "Epoch 214 Batch    0/10   train_loss = 2.136\n",
      "Epoch 215 Batch    0/10   train_loss = 2.134\n",
      "Epoch 216 Batch    0/10   train_loss = 2.107\n",
      "Epoch 217 Batch    0/10   train_loss = 2.087\n",
      "Epoch 218 Batch    0/10   train_loss = 2.090\n",
      "Epoch 219 Batch    0/10   train_loss = 2.083\n",
      "Epoch 220 Batch    0/10   train_loss = 2.082\n",
      "Epoch 221 Batch    0/10   train_loss = 2.055\n",
      "Epoch 222 Batch    0/10   train_loss = 2.059\n",
      "Epoch 223 Batch    0/10   train_loss = 2.022\n",
      "Epoch 224 Batch    0/10   train_loss = 2.011\n",
      "Epoch 225 Batch    0/10   train_loss = 2.005\n",
      "Epoch 226 Batch    0/10   train_loss = 2.004\n",
      "Epoch 227 Batch    0/10   train_loss = 1.982\n",
      "Epoch 228 Batch    0/10   train_loss = 1.978\n",
      "Epoch 229 Batch    0/10   train_loss = 1.943\n",
      "Epoch 230 Batch    0/10   train_loss = 1.957\n",
      "Epoch 231 Batch    0/10   train_loss = 1.938\n",
      "Epoch 232 Batch    0/10   train_loss = 1.926\n",
      "Epoch 233 Batch    0/10   train_loss = 1.891\n",
      "Epoch 234 Batch    0/10   train_loss = 1.900\n",
      "Epoch 235 Batch    0/10   train_loss = 1.875\n",
      "Epoch 236 Batch    0/10   train_loss = 1.844\n",
      "Epoch 237 Batch    0/10   train_loss = 1.816\n",
      "Epoch 238 Batch    0/10   train_loss = 1.820\n",
      "Epoch 239 Batch    0/10   train_loss = 1.803\n",
      "Epoch 240 Batch    0/10   train_loss = 1.777\n",
      "Epoch 241 Batch    0/10   train_loss = 1.800\n",
      "Epoch 242 Batch    0/10   train_loss = 1.796\n",
      "Epoch 243 Batch    0/10   train_loss = 1.797\n",
      "Epoch 244 Batch    0/10   train_loss = 1.764\n",
      "Epoch 245 Batch    0/10   train_loss = 1.756\n",
      "Epoch 246 Batch    0/10   train_loss = 1.788\n",
      "Epoch 247 Batch    0/10   train_loss = 1.802\n",
      "Epoch 248 Batch    0/10   train_loss = 1.763\n",
      "Epoch 249 Batch    0/10   train_loss = 1.734\n",
      "Epoch 250 Batch    0/10   train_loss = 1.713\n",
      "Epoch 251 Batch    0/10   train_loss = 1.701\n",
      "Epoch 252 Batch    0/10   train_loss = 1.688\n",
      "Epoch 253 Batch    0/10   train_loss = 1.663\n",
      "Epoch 254 Batch    0/10   train_loss = 1.643\n",
      "Epoch 255 Batch    0/10   train_loss = 1.644\n",
      "Epoch 256 Batch    0/10   train_loss = 1.632\n",
      "Epoch 257 Batch    0/10   train_loss = 1.620\n",
      "Epoch 258 Batch    0/10   train_loss = 1.606\n",
      "Epoch 259 Batch    0/10   train_loss = 1.618\n",
      "Epoch 260 Batch    0/10   train_loss = 1.605\n",
      "Epoch 261 Batch    0/10   train_loss = 1.608\n",
      "Epoch 262 Batch    0/10   train_loss = 1.614\n",
      "Epoch 263 Batch    0/10   train_loss = 1.567\n",
      "Epoch 264 Batch    0/10   train_loss = 1.584\n",
      "Epoch 265 Batch    0/10   train_loss = 1.586\n",
      "Epoch 266 Batch    0/10   train_loss = 1.553\n",
      "Epoch 267 Batch    0/10   train_loss = 1.538\n",
      "Epoch 268 Batch    0/10   train_loss = 1.533\n",
      "Epoch 269 Batch    0/10   train_loss = 1.529\n",
      "Epoch 270 Batch    0/10   train_loss = 1.540\n",
      "Epoch 271 Batch    0/10   train_loss = 1.516\n",
      "Epoch 272 Batch    0/10   train_loss = 1.520\n",
      "Epoch 273 Batch    0/10   train_loss = 1.484\n",
      "Epoch 274 Batch    0/10   train_loss = 1.467\n",
      "Epoch 275 Batch    0/10   train_loss = 1.479\n",
      "Epoch 276 Batch    0/10   train_loss = 1.490\n",
      "Epoch 277 Batch    0/10   train_loss = 1.427\n",
      "Epoch 278 Batch    0/10   train_loss = 1.430\n",
      "Epoch 279 Batch    0/10   train_loss = 1.449\n",
      "Epoch 280 Batch    0/10   train_loss = 1.392\n",
      "Epoch 281 Batch    0/10   train_loss = 1.387\n",
      "Epoch 282 Batch    0/10   train_loss = 1.374\n",
      "Epoch 283 Batch    0/10   train_loss = 1.349\n",
      "Epoch 284 Batch    0/10   train_loss = 1.329\n",
      "Epoch 285 Batch    0/10   train_loss = 1.313\n",
      "Epoch 286 Batch    0/10   train_loss = 1.326\n",
      "Epoch 287 Batch    0/10   train_loss = 1.304\n",
      "Epoch 288 Batch    0/10   train_loss = 1.270\n",
      "Epoch 289 Batch    0/10   train_loss = 1.285\n",
      "Epoch 290 Batch    0/10   train_loss = 1.270\n",
      "Epoch 291 Batch    0/10   train_loss = 1.273\n",
      "Epoch 292 Batch    0/10   train_loss = 1.260\n",
      "Epoch 293 Batch    0/10   train_loss = 1.256\n",
      "Epoch 294 Batch    0/10   train_loss = 1.257\n",
      "Epoch 295 Batch    0/10   train_loss = 1.226\n",
      "Epoch 296 Batch    0/10   train_loss = 1.227\n",
      "Epoch 297 Batch    0/10   train_loss = 1.217\n",
      "Epoch 298 Batch    0/10   train_loss = 1.216\n",
      "Epoch 299 Batch    0/10   train_loss = 1.236\n",
      "Epoch 300 Batch    0/10   train_loss = 1.235\n",
      "Epoch 301 Batch    0/10   train_loss = 1.212\n",
      "Epoch 302 Batch    0/10   train_loss = 1.168\n",
      "Epoch 303 Batch    0/10   train_loss = 1.206\n",
      "Epoch 304 Batch    0/10   train_loss = 1.230\n",
      "Epoch 305 Batch    0/10   train_loss = 1.219\n",
      "Epoch 306 Batch    0/10   train_loss = 1.218\n",
      "Epoch 307 Batch    0/10   train_loss = 1.218\n",
      "Epoch 308 Batch    0/10   train_loss = 1.184\n",
      "Epoch 309 Batch    0/10   train_loss = 1.165\n",
      "Epoch 310 Batch    0/10   train_loss = 1.173\n",
      "Epoch 311 Batch    0/10   train_loss = 1.187\n",
      "Epoch 312 Batch    0/10   train_loss = 1.143\n",
      "Epoch 313 Batch    0/10   train_loss = 1.112\n",
      "Epoch 314 Batch    0/10   train_loss = 1.141\n",
      "Epoch 315 Batch    0/10   train_loss = 1.138\n",
      "Epoch 316 Batch    0/10   train_loss = 1.115\n",
      "Epoch 317 Batch    0/10   train_loss = 1.101\n",
      "Epoch 318 Batch    0/10   train_loss = 1.079\n",
      "Epoch 319 Batch    0/10   train_loss = 1.074\n",
      "Epoch 320 Batch    0/10   train_loss = 1.067\n",
      "Epoch 321 Batch    0/10   train_loss = 1.039\n",
      "Epoch 322 Batch    0/10   train_loss = 1.033\n",
      "Epoch 323 Batch    0/10   train_loss = 1.036\n",
      "Epoch 324 Batch    0/10   train_loss = 1.031\n",
      "Epoch 325 Batch    0/10   train_loss = 1.044\n",
      "Epoch 326 Batch    0/10   train_loss = 1.033\n",
      "Epoch 327 Batch    0/10   train_loss = 1.059\n",
      "Epoch 328 Batch    0/10   train_loss = 1.047\n",
      "Epoch 329 Batch    0/10   train_loss = 1.037\n",
      "Epoch 330 Batch    0/10   train_loss = 1.043\n",
      "Epoch 331 Batch    0/10   train_loss = 1.062\n",
      "Epoch 332 Batch    0/10   train_loss = 1.033\n",
      "Epoch 333 Batch    0/10   train_loss = 1.046\n",
      "Epoch 334 Batch    0/10   train_loss = 1.006\n",
      "Epoch 335 Batch    0/10   train_loss = 0.984\n",
      "Epoch 336 Batch    0/10   train_loss = 0.985\n",
      "Epoch 337 Batch    0/10   train_loss = 0.952\n",
      "Epoch 338 Batch    0/10   train_loss = 0.944\n",
      "Epoch 339 Batch    0/10   train_loss = 0.931\n",
      "Epoch 340 Batch    0/10   train_loss = 0.917\n",
      "Epoch 341 Batch    0/10   train_loss = 0.922\n",
      "Epoch 342 Batch    0/10   train_loss = 0.903\n",
      "Epoch 343 Batch    0/10   train_loss = 0.908\n",
      "Epoch 344 Batch    0/10   train_loss = 0.896\n",
      "Epoch 345 Batch    0/10   train_loss = 0.888\n",
      "Epoch 346 Batch    0/10   train_loss = 0.877\n",
      "Epoch 347 Batch    0/10   train_loss = 0.912\n",
      "Epoch 348 Batch    0/10   train_loss = 0.881\n",
      "Epoch 349 Batch    0/10   train_loss = 0.864\n",
      "Epoch 350 Batch    0/10   train_loss = 0.866\n",
      "Epoch 351 Batch    0/10   train_loss = 0.845\n",
      "Epoch 352 Batch    0/10   train_loss = 0.870\n",
      "Epoch 353 Batch    0/10   train_loss = 0.842\n",
      "Epoch 354 Batch    0/10   train_loss = 0.841\n",
      "Epoch 355 Batch    0/10   train_loss = 0.838\n",
      "Epoch 356 Batch    0/10   train_loss = 0.849\n",
      "Epoch 357 Batch    0/10   train_loss = 0.829\n",
      "Epoch 358 Batch    0/10   train_loss = 0.830\n",
      "Epoch 359 Batch    0/10   train_loss = 0.816\n",
      "Epoch 360 Batch    0/10   train_loss = 0.805\n",
      "Epoch 361 Batch    0/10   train_loss = 0.805\n",
      "Epoch 362 Batch    0/10   train_loss = 0.818\n",
      "Epoch 363 Batch    0/10   train_loss = 0.791\n",
      "Epoch 364 Batch    0/10   train_loss = 0.792\n",
      "Epoch 365 Batch    0/10   train_loss = 0.806\n",
      "Epoch 366 Batch    0/10   train_loss = 0.800\n",
      "Epoch 367 Batch    0/10   train_loss = 0.787\n",
      "Epoch 368 Batch    0/10   train_loss = 0.776\n",
      "Epoch 369 Batch    0/10   train_loss = 0.776\n",
      "Epoch 370 Batch    0/10   train_loss = 0.774\n",
      "Epoch 371 Batch    0/10   train_loss = 0.808\n",
      "Epoch 372 Batch    0/10   train_loss = 0.829\n",
      "Epoch 373 Batch    0/10   train_loss = 0.810\n",
      "Epoch 374 Batch    0/10   train_loss = 0.769\n",
      "Epoch 375 Batch    0/10   train_loss = 0.803\n",
      "Epoch 376 Batch    0/10   train_loss = 0.822\n",
      "Epoch 377 Batch    0/10   train_loss = 0.778\n",
      "Epoch 378 Batch    0/10   train_loss = 0.747\n",
      "Epoch 379 Batch    0/10   train_loss = 0.768\n",
      "Epoch 380 Batch    0/10   train_loss = 0.728\n",
      "Epoch 381 Batch    0/10   train_loss = 0.721\n",
      "Epoch 382 Batch    0/10   train_loss = 0.709\n",
      "Epoch 383 Batch    0/10   train_loss = 0.682\n",
      "Epoch 384 Batch    0/10   train_loss = 0.682\n",
      "Epoch 385 Batch    0/10   train_loss = 0.687\n",
      "Epoch 386 Batch    0/10   train_loss = 0.662\n",
      "Epoch 387 Batch    0/10   train_loss = 0.666\n",
      "Epoch 388 Batch    0/10   train_loss = 0.671\n",
      "Epoch 389 Batch    0/10   train_loss = 0.665\n",
      "Epoch 390 Batch    0/10   train_loss = 0.663\n",
      "Epoch 391 Batch    0/10   train_loss = 0.641\n",
      "Epoch 392 Batch    0/10   train_loss = 0.656\n",
      "Epoch 393 Batch    0/10   train_loss = 0.670\n",
      "Epoch 394 Batch    0/10   train_loss = 0.650\n",
      "Epoch 395 Batch    0/10   train_loss = 0.642\n",
      "Epoch 396 Batch    0/10   train_loss = 0.628\n",
      "Epoch 397 Batch    0/10   train_loss = 0.631\n",
      "Epoch 398 Batch    0/10   train_loss = 0.650\n",
      "Epoch 399 Batch    0/10   train_loss = 0.628\n",
      "Epoch 400 Batch    0/10   train_loss = 0.613\n",
      "Epoch 401 Batch    0/10   train_loss = 0.625\n",
      "Epoch 402 Batch    0/10   train_loss = 0.617\n",
      "Epoch 403 Batch    0/10   train_loss = 0.636\n",
      "Epoch 404 Batch    0/10   train_loss = 0.616\n",
      "Epoch 405 Batch    0/10   train_loss = 0.612\n",
      "Epoch 406 Batch    0/10   train_loss = 0.596\n",
      "Epoch 407 Batch    0/10   train_loss = 0.586\n",
      "Epoch 408 Batch    0/10   train_loss = 0.609\n",
      "Epoch 409 Batch    0/10   train_loss = 0.593\n",
      "Epoch 410 Batch    0/10   train_loss = 0.567\n",
      "Epoch 411 Batch    0/10   train_loss = 0.579\n",
      "Epoch 412 Batch    0/10   train_loss = 0.564\n",
      "Epoch 413 Batch    0/10   train_loss = 0.562\n",
      "Epoch 414 Batch    0/10   train_loss = 0.565\n",
      "Epoch 415 Batch    0/10   train_loss = 0.570\n",
      "Epoch 416 Batch    0/10   train_loss = 0.551\n",
      "Epoch 417 Batch    0/10   train_loss = 0.551\n",
      "Epoch 418 Batch    0/10   train_loss = 0.539\n",
      "Epoch 419 Batch    0/10   train_loss = 0.544\n",
      "Epoch 420 Batch    0/10   train_loss = 0.538\n",
      "Epoch 421 Batch    0/10   train_loss = 0.542\n",
      "Epoch 422 Batch    0/10   train_loss = 0.529\n",
      "Epoch 423 Batch    0/10   train_loss = 0.529\n",
      "Epoch 424 Batch    0/10   train_loss = 0.524\n",
      "Epoch 425 Batch    0/10   train_loss = 0.526\n",
      "Epoch 426 Batch    0/10   train_loss = 0.522\n",
      "Epoch 427 Batch    0/10   train_loss = 0.515\n",
      "Epoch 428 Batch    0/10   train_loss = 0.523\n",
      "Epoch 429 Batch    0/10   train_loss = 0.519\n",
      "Epoch 430 Batch    0/10   train_loss = 0.499\n",
      "Epoch 431 Batch    0/10   train_loss = 0.501\n",
      "Epoch 432 Batch    0/10   train_loss = 0.518\n",
      "Epoch 433 Batch    0/10   train_loss = 0.522\n",
      "Epoch 434 Batch    0/10   train_loss = 0.517\n",
      "Epoch 435 Batch    0/10   train_loss = 0.499\n",
      "Epoch 436 Batch    0/10   train_loss = 0.507\n",
      "Epoch 437 Batch    0/10   train_loss = 0.499\n",
      "Epoch 438 Batch    0/10   train_loss = 0.526\n",
      "Epoch 439 Batch    0/10   train_loss = 0.513\n",
      "Epoch 440 Batch    0/10   train_loss = 0.502\n",
      "Epoch 441 Batch    0/10   train_loss = 0.496\n",
      "Epoch 442 Batch    0/10   train_loss = 0.502\n",
      "Epoch 443 Batch    0/10   train_loss = 0.486\n",
      "Epoch 444 Batch    0/10   train_loss = 0.489\n",
      "Epoch 445 Batch    0/10   train_loss = 0.486\n",
      "Epoch 446 Batch    0/10   train_loss = 0.472\n",
      "Epoch 447 Batch    0/10   train_loss = 0.478\n",
      "Epoch 448 Batch    0/10   train_loss = 0.478\n",
      "Epoch 449 Batch    0/10   train_loss = 0.462\n",
      "Epoch 450 Batch    0/10   train_loss = 0.458\n",
      "Epoch 451 Batch    0/10   train_loss = 0.443\n",
      "Epoch 452 Batch    0/10   train_loss = 0.448\n",
      "Epoch 453 Batch    0/10   train_loss = 0.444\n",
      "Epoch 454 Batch    0/10   train_loss = 0.424\n",
      "Epoch 455 Batch    0/10   train_loss = 0.443\n",
      "Epoch 456 Batch    0/10   train_loss = 0.434\n",
      "Epoch 457 Batch    0/10   train_loss = 0.439\n",
      "Epoch 458 Batch    0/10   train_loss = 0.417\n",
      "Epoch 459 Batch    0/10   train_loss = 0.423\n",
      "Epoch 460 Batch    0/10   train_loss = 0.432\n",
      "Epoch 461 Batch    0/10   train_loss = 0.412\n",
      "Epoch 462 Batch    0/10   train_loss = 0.406\n",
      "Epoch 463 Batch    0/10   train_loss = 0.425\n",
      "Epoch 464 Batch    0/10   train_loss = 0.425\n",
      "Epoch 465 Batch    0/10   train_loss = 0.415\n",
      "Epoch 466 Batch    0/10   train_loss = 0.416\n",
      "Epoch 467 Batch    0/10   train_loss = 0.428\n",
      "Epoch 468 Batch    0/10   train_loss = 0.410\n",
      "Epoch 469 Batch    0/10   train_loss = 0.409\n",
      "Epoch 470 Batch    0/10   train_loss = 0.412\n",
      "Epoch 471 Batch    0/10   train_loss = 0.413\n",
      "Epoch 472 Batch    0/10   train_loss = 0.414\n",
      "Epoch 473 Batch    0/10   train_loss = 0.410\n",
      "Epoch 474 Batch    0/10   train_loss = 0.402\n",
      "Epoch 475 Batch    0/10   train_loss = 0.393\n",
      "Epoch 476 Batch    0/10   train_loss = 0.389\n",
      "Epoch 477 Batch    0/10   train_loss = 0.389\n",
      "Epoch 478 Batch    0/10   train_loss = 0.395\n",
      "Epoch 479 Batch    0/10   train_loss = 0.377\n",
      "Epoch 480 Batch    0/10   train_loss = 0.388\n",
      "Epoch 481 Batch    0/10   train_loss = 0.379\n",
      "Epoch 482 Batch    0/10   train_loss = 0.377\n",
      "Epoch 483 Batch    0/10   train_loss = 0.371\n",
      "Epoch 484 Batch    0/10   train_loss = 0.376\n",
      "Epoch 485 Batch    0/10   train_loss = 0.379\n",
      "Epoch 486 Batch    0/10   train_loss = 0.383\n",
      "Epoch 487 Batch    0/10   train_loss = 0.367\n",
      "Epoch 488 Batch    0/10   train_loss = 0.371\n",
      "Epoch 489 Batch    0/10   train_loss = 0.369\n",
      "Epoch 490 Batch    0/10   train_loss = 0.372\n",
      "Epoch 491 Batch    0/10   train_loss = 0.354\n",
      "Epoch 492 Batch    0/10   train_loss = 0.356\n",
      "Epoch 493 Batch    0/10   train_loss = 0.352\n",
      "Epoch 494 Batch    0/10   train_loss = 0.363\n",
      "Epoch 495 Batch    0/10   train_loss = 0.363\n",
      "Epoch 496 Batch    0/10   train_loss = 0.347\n",
      "Epoch 497 Batch    0/10   train_loss = 0.352\n",
      "Epoch 498 Batch    0/10   train_loss = 0.349\n",
      "Epoch 499 Batch    0/10   train_loss = 0.351\n",
      "Epoch 500 Batch    0/10   train_loss = 0.346\n",
      "Epoch 501 Batch    0/10   train_loss = 0.350\n",
      "Epoch 502 Batch    0/10   train_loss = 0.349\n",
      "Epoch 503 Batch    0/10   train_loss = 0.346\n",
      "Epoch 504 Batch    0/10   train_loss = 0.338\n",
      "Epoch 505 Batch    0/10   train_loss = 0.337\n",
      "Epoch 506 Batch    0/10   train_loss = 0.332\n",
      "Epoch 507 Batch    0/10   train_loss = 0.339\n",
      "Epoch 508 Batch    0/10   train_loss = 0.330\n",
      "Epoch 509 Batch    0/10   train_loss = 0.328\n",
      "Epoch 510 Batch    0/10   train_loss = 0.323\n",
      "Epoch 511 Batch    0/10   train_loss = 0.342\n",
      "Epoch 512 Batch    0/10   train_loss = 0.327\n",
      "Epoch 513 Batch    0/10   train_loss = 0.331\n",
      "Epoch 514 Batch    0/10   train_loss = 0.313\n",
      "Epoch 515 Batch    0/10   train_loss = 0.321\n",
      "Epoch 516 Batch    0/10   train_loss = 0.322\n",
      "Epoch 517 Batch    0/10   train_loss = 0.320\n",
      "Epoch 518 Batch    0/10   train_loss = 0.310\n",
      "Epoch 519 Batch    0/10   train_loss = 0.315\n",
      "Epoch 520 Batch    0/10   train_loss = 0.305\n",
      "Epoch 521 Batch    0/10   train_loss = 0.312\n",
      "Epoch 522 Batch    0/10   train_loss = 0.302\n",
      "Epoch 523 Batch    0/10   train_loss = 0.318\n",
      "Epoch 524 Batch    0/10   train_loss = 0.310\n",
      "Epoch 525 Batch    0/10   train_loss = 0.309\n",
      "Epoch 526 Batch    0/10   train_loss = 0.304\n",
      "Epoch 527 Batch    0/10   train_loss = 0.307\n",
      "Epoch 528 Batch    0/10   train_loss = 0.302\n",
      "Epoch 529 Batch    0/10   train_loss = 0.311\n",
      "Epoch 530 Batch    0/10   train_loss = 0.301\n",
      "Epoch 531 Batch    0/10   train_loss = 0.293\n",
      "Epoch 532 Batch    0/10   train_loss = 0.305\n",
      "Epoch 533 Batch    0/10   train_loss = 0.303\n",
      "Epoch 534 Batch    0/10   train_loss = 0.295\n",
      "Epoch 535 Batch    0/10   train_loss = 0.284\n",
      "Epoch 536 Batch    0/10   train_loss = 0.302\n",
      "Epoch 537 Batch    0/10   train_loss = 0.294\n",
      "Epoch 538 Batch    0/10   train_loss = 0.288\n",
      "Epoch 539 Batch    0/10   train_loss = 0.287\n",
      "Epoch 540 Batch    0/10   train_loss = 0.282\n",
      "Epoch 541 Batch    0/10   train_loss = 0.289\n",
      "Epoch 542 Batch    0/10   train_loss = 0.294\n",
      "Epoch 543 Batch    0/10   train_loss = 0.277\n",
      "Epoch 544 Batch    0/10   train_loss = 0.304\n",
      "Epoch 545 Batch    0/10   train_loss = 0.281\n",
      "Epoch 546 Batch    0/10   train_loss = 0.283\n",
      "Epoch 547 Batch    0/10   train_loss = 0.280\n",
      "Epoch 548 Batch    0/10   train_loss = 0.282\n",
      "Epoch 549 Batch    0/10   train_loss = 0.286\n",
      "Epoch 550 Batch    0/10   train_loss = 0.277\n",
      "Epoch 551 Batch    0/10   train_loss = 0.282\n",
      "Epoch 552 Batch    0/10   train_loss = 0.282\n",
      "Epoch 553 Batch    0/10   train_loss = 0.282\n",
      "Epoch 554 Batch    0/10   train_loss = 0.275\n",
      "Epoch 555 Batch    0/10   train_loss = 0.279\n",
      "Epoch 556 Batch    0/10   train_loss = 0.270\n",
      "Epoch 557 Batch    0/10   train_loss = 0.272\n",
      "Epoch 558 Batch    0/10   train_loss = 0.267\n",
      "Epoch 559 Batch    0/10   train_loss = 0.276\n",
      "Epoch 560 Batch    0/10   train_loss = 0.261\n",
      "Epoch 561 Batch    0/10   train_loss = 0.266\n",
      "Epoch 562 Batch    0/10   train_loss = 0.277\n",
      "Epoch 563 Batch    0/10   train_loss = 0.261\n",
      "Epoch 564 Batch    0/10   train_loss = 0.265\n",
      "Epoch 565 Batch    0/10   train_loss = 0.262\n",
      "Epoch 566 Batch    0/10   train_loss = 0.269\n",
      "Epoch 567 Batch    0/10   train_loss = 0.258\n",
      "Epoch 568 Batch    0/10   train_loss = 0.258\n",
      "Epoch 569 Batch    0/10   train_loss = 0.251\n",
      "Epoch 570 Batch    0/10   train_loss = 0.255\n",
      "Epoch 571 Batch    0/10   train_loss = 0.256\n",
      "Epoch 572 Batch    0/10   train_loss = 0.253\n",
      "Epoch 573 Batch    0/10   train_loss = 0.245\n",
      "Epoch 574 Batch    0/10   train_loss = 0.259\n",
      "Epoch 575 Batch    0/10   train_loss = 0.259\n",
      "Epoch 576 Batch    0/10   train_loss = 0.252\n",
      "Epoch 577 Batch    0/10   train_loss = 0.253\n",
      "Epoch 578 Batch    0/10   train_loss = 0.258\n",
      "Epoch 579 Batch    0/10   train_loss = 0.248\n",
      "Epoch 580 Batch    0/10   train_loss = 0.245\n",
      "Epoch 581 Batch    0/10   train_loss = 0.245\n",
      "Epoch 582 Batch    0/10   train_loss = 0.255\n",
      "Epoch 583 Batch    0/10   train_loss = 0.245\n",
      "Epoch 584 Batch    0/10   train_loss = 0.252\n",
      "Epoch 585 Batch    0/10   train_loss = 0.246\n",
      "Epoch 586 Batch    0/10   train_loss = 0.239\n",
      "Epoch 587 Batch    0/10   train_loss = 0.243\n",
      "Epoch 588 Batch    0/10   train_loss = 0.245\n",
      "Epoch 589 Batch    0/10   train_loss = 0.245\n",
      "Epoch 590 Batch    0/10   train_loss = 0.233\n",
      "Epoch 591 Batch    0/10   train_loss = 0.237\n",
      "Epoch 592 Batch    0/10   train_loss = 0.236\n",
      "Epoch 593 Batch    0/10   train_loss = 0.241\n",
      "Epoch 594 Batch    0/10   train_loss = 0.241\n",
      "Epoch 595 Batch    0/10   train_loss = 0.237\n",
      "Epoch 596 Batch    0/10   train_loss = 0.240\n",
      "Epoch 597 Batch    0/10   train_loss = 0.238\n",
      "Epoch 598 Batch    0/10   train_loss = 0.232\n",
      "Epoch 599 Batch    0/10   train_loss = 0.234\n",
      "Model Trained and Saved\n"
     ]
    }
   ],
   "source": [
    "\"\"\"\n",
    "DON'T MODIFY ANYTHING IN THIS CELL\n",
    "\"\"\"\n",
    "batches = get_batches(int_text, batch_size, seq_length)\n",
    "\n",
    "with tf.Session(graph=train_graph) as sess:\n",
    "    sess.run(tf.global_variables_initializer())\n",
    "\n",
    "    for epoch_i in range(num_epochs):\n",
    "        state = sess.run(initial_state, {input_text: batches[0][0]})\n",
    "\n",
    "        for batch_i, (x, y) in enumerate(batches):\n",
    "            feed = {\n",
    "                input_text: x,\n",
    "                targets: y,\n",
    "                initial_state: state,\n",
    "                lr: learning_rate}\n",
    "            train_loss, state, _ = sess.run([cost, final_state, train_op], feed)\n",
    "\n",
    "            # Show every <show_every_n_batches> batches\n",
    "            if (epoch_i * len(batches) + batch_i) % show_every_n_batches == 0:\n",
    "                print('Epoch {:>3} Batch {:>4}/{}   train_loss = {:.3f}'.format(\n",
    "                    epoch_i,\n",
    "                    batch_i,\n",
    "                    len(batches),\n",
    "                    train_loss))\n",
    "\n",
    "    # Save Model\n",
    "    saver = tf.train.Saver()\n",
    "    saver.save(sess, save_dir)\n",
    "    print('Model Trained and Saved')"
   ]
  },
  {
   "cell_type": "markdown",
   "metadata": {
    "deletable": true,
    "editable": true
   },
   "source": [
    "## Save Parameters\n",
    "Save `seq_length` and `save_dir` for generating a new TV script."
   ]
  },
  {
   "cell_type": "code",
   "execution_count": 51,
   "metadata": {
    "collapsed": false,
    "deletable": true,
    "editable": true
   },
   "outputs": [],
   "source": [
    "\"\"\"\n",
    "DON'T MODIFY ANYTHING IN THIS CELL\n",
    "\"\"\"\n",
    "# Save parameters for checkpoint\n",
    "helper.save_params((seq_length, save_dir))"
   ]
  },
  {
   "cell_type": "markdown",
   "metadata": {
    "deletable": true,
    "editable": true
   },
   "source": [
    "# Checkpoint"
   ]
  },
  {
   "cell_type": "code",
   "execution_count": 52,
   "metadata": {
    "collapsed": false,
    "deletable": true,
    "editable": true
   },
   "outputs": [],
   "source": [
    "\"\"\"\n",
    "DON'T MODIFY ANYTHING IN THIS CELL\n",
    "\"\"\"\n",
    "import tensorflow as tf\n",
    "import numpy as np\n",
    "import helper\n",
    "import problem_unittests as tests\n",
    "\n",
    "_, vocab_to_int, int_to_vocab, token_dict = helper.load_preprocess()\n",
    "seq_length, load_dir = helper.load_params()"
   ]
  },
  {
   "cell_type": "markdown",
   "metadata": {
    "deletable": true,
    "editable": true
   },
   "source": [
    "## Implement Generate Functions\n",
    "### Get Tensors\n",
    "Get tensors from `loaded_graph` using the function [`get_tensor_by_name()`](https://www.tensorflow.org/api_docs/python/tf/Graph#get_tensor_by_name).  Get the tensors using the following names:\n",
    "- \"input:0\"\n",
    "- \"initial_state:0\"\n",
    "- \"final_state:0\"\n",
    "- \"probs:0\"\n",
    "\n",
    "Return the tensors in the following tuple `(InputTensor, InitialStateTensor, FinalStateTensor, ProbsTensor)` "
   ]
  },
  {
   "cell_type": "code",
   "execution_count": 53,
   "metadata": {
    "collapsed": false,
    "deletable": true,
    "editable": true
   },
   "outputs": [
    {
     "name": "stdout",
     "output_type": "stream",
     "text": [
      "Tests Passed\n"
     ]
    }
   ],
   "source": [
    "def get_tensors(loaded_graph):\n",
    "    \"\"\"\n",
    "    Get input, initial state, final state, and probabilities tensor from <loaded_graph>\n",
    "    :param loaded_graph: TensorFlow graph loaded from file\n",
    "    :return: Tuple (InputTensor, InitialStateTensor, FinalStateTensor, ProbsTensor)\n",
    "    \"\"\"\n",
    "    # TODO: Implement Function\n",
    "    input_tensor = loaded_graph.get_tensor_by_name('input:0')\n",
    "    initial_state_tensor = loaded_graph.get_tensor_by_name('initial_state:0')\n",
    "    final_state_tensor = loaded_graph.get_tensor_by_name('final_state:0')\n",
    "    probs_tensor = loaded_graph.get_tensor_by_name('probs:0')\n",
    "    return input_tensor, initial_state_tensor, final_state_tensor, probs_tensor\n",
    "\n",
    "\n",
    "\"\"\"\n",
    "DON'T MODIFY ANYTHING IN THIS CELL THAT IS BELOW THIS LINE\n",
    "\"\"\"\n",
    "tests.test_get_tensors(get_tensors)"
   ]
  },
  {
   "cell_type": "markdown",
   "metadata": {
    "deletable": true,
    "editable": true
   },
   "source": [
    "### Choose Word\n",
    "Implement the `pick_word()` function to select the next word using `probabilities`."
   ]
  },
  {
   "cell_type": "code",
   "execution_count": 70,
   "metadata": {
    "collapsed": false,
    "deletable": true,
    "editable": true,
    "scrolled": true
   },
   "outputs": [
    {
     "name": "stdout",
     "output_type": "stream",
     "text": [
      "Tests Passed\n"
     ]
    }
   ],
   "source": [
    "def pick_word(probabilities, int_to_vocab):\n",
    "    \"\"\"\n",
    "    Pick the next word in the generated text\n",
    "    :param probabilities: Probabilites of the next word\n",
    "    :param int_to_vocab: Dictionary of word ids as the keys and words as the values\n",
    "    :return: String of the predicted word\n",
    "    \"\"\"\n",
    "    # TODO: Implement Function\n",
    "    # not sure we are picking the highest probable one or we need to roll the dice and choose \n",
    "    return np.random.choice(list(int_to_vocab.values()), p=probabilities)\n",
    "\"\"\"\n",
    "DON'T MODIFY ANYTHING IN THIS CELL THAT IS BELOW THIS LINE\n",
    "\"\"\"\n",
    "tests.test_pick_word(pick_word)"
   ]
  },
  {
   "cell_type": "markdown",
   "metadata": {
    "deletable": true,
    "editable": true
   },
   "source": [
    "## Generate TV Script\n",
    "This will generate the TV script for you.  Set `gen_length` to the length of TV script you want to generate."
   ]
  },
  {
   "cell_type": "code",
   "execution_count": 71,
   "metadata": {
    "collapsed": false,
    "deletable": true,
    "editable": true,
    "scrolled": true
   },
   "outputs": [
    {
     "name": "stdout",
     "output_type": "stream",
     "text": [
      "INFO:tensorflow:Restoring parameters from ./save\n",
      "moe_szyslak: okay, but the last guy who charged a light on burns burns an more telegraph.\n",
      "moe_szyslak:(remembering noise) the day guys, lisa right.\n",
      "homer_simpson:(shocked) right!(sitting sound) heh. he's too.\n",
      "barflies: no. how comes your honor might blame this is it of for wrong.\n",
      "agnes_skinner: i really got you to think\"\n",
      "homer_simpson: there when this put a\" flaming moe\".\n",
      "homer_simpson: he was me, i'm losing you're on where that where you have. to have back gonna check nothin'.\n",
      "moe_szyslak: oh right, it's this time. i did are my money-- he's a little smell for your wife.\n",
      "homer_simpson: let me be the hell! the one suicide..\n",
      "\n",
      "\n",
      "moe_szyslak: gee, people out that one. like we, kid and lenny.\n",
      "chief_wiggum: ah, thanks and lisa.\n",
      "lenny_leonard: we want to guys like that billboard good one shows that alone, i don't seen i'm the chinese mean that didn't what where no place take it out\n"
     ]
    }
   ],
   "source": [
    "gen_length = 200\n",
    "# homer_simpson, moe_szyslak, or Barney_Gumble\n",
    "prime_word = 'moe_szyslak'\n",
    "\n",
    "\"\"\"\n",
    "DON'T MODIFY ANYTHING IN THIS CELL THAT IS BELOW THIS LINE\n",
    "\"\"\"\n",
    "loaded_graph = tf.Graph()\n",
    "with tf.Session(graph=loaded_graph) as sess:\n",
    "    # Load saved model\n",
    "    loader = tf.train.import_meta_graph(load_dir + '.meta')\n",
    "    loader.restore(sess, load_dir)\n",
    "\n",
    "    # Get Tensors from loaded model\n",
    "    input_text, initial_state, final_state, probs = get_tensors(loaded_graph)\n",
    "\n",
    "    # Sentences generation setup\n",
    "    gen_sentences = [prime_word + ':']\n",
    "    prev_state = sess.run(initial_state, {input_text: np.array([[1]])})\n",
    "\n",
    "    # Generate sentences\n",
    "    for n in range(gen_length):\n",
    "        # Dynamic Input\n",
    "        dyn_input = [[vocab_to_int[word] for word in gen_sentences[-seq_length:]]]\n",
    "        dyn_seq_length = len(dyn_input[0])\n",
    "\n",
    "        # Get Prediction\n",
    "        probabilities, prev_state = sess.run(\n",
    "            [probs, final_state],\n",
    "            {input_text: dyn_input, initial_state: prev_state})\n",
    "\n",
    "        pred_word = pick_word(probabilities[0][dyn_seq_length-1], int_to_vocab)\n",
    "\n",
    "        gen_sentences.append(pred_word)\n",
    "    \n",
    "    # Remove tokens\n",
    "    tv_script = ' '.join(gen_sentences)\n",
    "    for key, token in token_dict.items():\n",
    "        ending = ' ' if key in ['\\n', '(', '\"'] else ''\n",
    "        tv_script = tv_script.replace(' ' + token.lower(), key)\n",
    "    tv_script = tv_script.replace('\\n ', '\\n')\n",
    "    tv_script = tv_script.replace('( ', '(')\n",
    "        \n",
    "    print(tv_script)"
   ]
  },
  {
   "cell_type": "markdown",
   "metadata": {},
   "source": [
    "## I added [0] to the probabilities output, seems to be the issues with the output from tensorflow verison <=1.2.1 and 1.3,   1.3 return a [[p]] rather than [p] added the [0] remove the added dimension"
   ]
  },
  {
   "cell_type": "markdown",
   "metadata": {
    "deletable": true,
    "editable": true
   },
   "source": [
    "# The TV Script is Nonsensical\n",
    "It's ok if the TV script doesn't make any sense.  We trained on less than a megabyte of text.  In order to get good results, you'll have to use a smaller vocabulary or get more data.  Luckly there's more data!  As we mentioned in the begging of this project, this is a subset of [another dataset](https://www.kaggle.com/wcukierski/the-simpsons-by-the-data).  We didn't have you train on all the data, because that would take too long.  However, you are free to train your neural network on all the data.  After you complete the project, of course.\n",
    "# Submitting This Project\n",
    "When submitting this project, make sure to run all the cells before saving the notebook. Save the notebook file as \"dlnd_tv_script_generation.ipynb\" and save it as a HTML file under \"File\" -> \"Download as\". Include the \"helper.py\" and \"problem_unittests.py\" files in your submission."
   ]
  },
  {
   "cell_type": "code",
   "execution_count": null,
   "metadata": {
    "collapsed": true
   },
   "outputs": [],
   "source": []
  }
 ],
 "metadata": {
  "kernelspec": {
   "display_name": "Python 3",
   "language": "python",
   "name": "python3"
  },
  "language_info": {
   "codemirror_mode": {
    "name": "ipython",
    "version": 3
   },
   "file_extension": ".py",
   "mimetype": "text/x-python",
   "name": "python",
   "nbconvert_exporter": "python",
   "pygments_lexer": "ipython3",
   "version": "3.5.2"
  }
 },
 "nbformat": 4,
 "nbformat_minor": 0
}
